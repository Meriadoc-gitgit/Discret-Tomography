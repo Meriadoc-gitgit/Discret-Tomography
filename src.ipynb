{
 "cells": [
  {
   "cell_type": "code",
   "execution_count": 1,
   "metadata": {},
   "outputs": [],
   "source": [
    "# Implémentation des librairies nécessaires\n",
    "import numpy as np\n",
    "\n",
    "# Implémentation de code source\n",
    "import src"
   ]
  },
  {
   "cell_type": "code",
   "execution_count": 2,
   "metadata": {},
   "outputs": [
    {
     "name": "stdout",
     "output_type": "stream",
     "text": [
      "Le coloriage est possible.\n"
     ]
    },
    {
     "data": {
      "text/plain": [
       "[-1, -1, -1, 1, -1, -1, -1, -1, -1, -1, -1, -1, -1, -1, -1, -1, -1, -1, 0, 0]"
      ]
     },
     "execution_count": 2,
     "metadata": {},
     "output_type": "execute_result"
    }
   ],
   "source": [
    "#L = [0,1,1,1,1,0,0,1,1,0,1,1,-1,0,0,0,0,1,1,1]\n",
    "L = [-1]*18+[0]*2\n",
    "bloc = [4, 2, 3, 3]\n",
    "j = 19\n",
    "l = 4\n",
    "print(\"Le coloriage est possible.\" \n",
    "if src.coloring_chain(L, bloc, j, l)  else \"Le coloriage n'est pas possible.\")\n",
    "L"
   ]
  },
  {
   "cell_type": "code",
   "execution_count": 14,
   "metadata": {},
   "outputs": [
    {
     "name": "stdout",
     "output_type": "stream",
     "text": [
      "45 45 [[11, 5, 11, 13], [9, 6, 6, 5, 12], [8, 7, 10, 4, 11], [7, 7, 13, 4, 10], [6, 4, 10, 3, 10], [5, 3, 8, 3, 9], [4, 3, 7, 3, 9], [4, 3, 7, 3, 8], [3, 4, 7, 3, 8], [3, 3, 11, 7], [2, 4, 9, 7], [2, 4, 2, 6, 6], [1, 2, 2, 2, 3, 2, 6], [1, 2, 2, 4, 6, 3, 3, 3, 5], [2, 5, 1, 3, 7, 3, 2, 5], [2, 11, 3, 11, 3, 3, 4], [1, 4, 2, 1, 4, 2, 2, 4, 3, 2, 4], [2, 4, 2, 2, 5, 2, 3, 3], [2, 4, 2, 9, 3, 2], [1, 5, 1, 15, 1], [7, 16], [8, 18], [8, 1, 19], [8, 1, 3, 20], [9, 4, 20], [9, 1, 21], [9, 3, 5, 21], [10, 6, 21], [10, 4, 22], [11, 23], [12, 24], [14, 26], [45], [45], [14, 28], [14, 27], [14, 25], [14, 1, 7, 13], [13, 1, 2, 17], [13, 1, 1, 1, 10], [12, 11], [10, 9], [7, 1, 10], [5, 2, 9], [3, 5, 10]] [[14, 28], [12, 5, 25], [10, 4, 26], [8, 4, 28], [6, 4, 30], [5, 37, 1], [4, 38, 1], [3, 5, 2, 21, 2], [2, 3, 2, 18, 2], [1, 3, 1, 1, 15, 1], [1, 3, 1, 1, 12], [3, 1, 2, 11], [3, 1, 2, 1, 9], [4, 2, 1, 2, 7], [4, 2, 1, 3, 2], [3, 1, 2, 2], [2, 1, 2, 3, 2], [1, 2, 5, 2, 3, 3], [3, 5, 2, 2, 4], [4, 4, 1, 5], [5, 2, 1, 1, 6], [5, 1, 1, 1, 7], [5, 1, 1, 9], [6, 1, 2, 9, 1], [1, 5, 1, 2, 13], [1, 7, 2, 1, 16], [1, 8, 4, 17], [2, 7, 3, 17, 1], [2, 8, 3, 20], [3, 35], [3, 35], [4, 4, 23, 1], [1, 5, 5, 23], [2, 13, 23, 1], [3, 12, 21, 1], [5, 5, 27, 1, 1], [7, 5, 29], [9, 5, 27], [11, 5, 26], [13, 30], [15, 28], [17, 27], [18, 26], [19, 25], [20, 24]] \n",
      "\n",
      "False\n",
      "False\n",
      "False\n",
      "False\n",
      "False\n",
      "False\n",
      "False\n",
      "True\n",
      "-1\n"
     ]
    }
   ],
   "source": [
    "list_line, list_col = src.read_file(\"instances/13.txt\")\n",
    "A = [[-1]*(len(list_col))]*(len(list_line))\n",
    "print(len(list_line), len(list_col), list_line, list_col,\"\\n\")\n",
    "ok, A = src.COLORATION(A, list_line, list_col)\n",
    "#src.show(A)\n",
    "src.EmptyCounter(A)\n",
    "print(ok)"
   ]
  },
  {
   "cell_type": "code",
   "execution_count": 15,
   "metadata": {},
   "outputs": [
    {
     "data": {
      "image/png": "[encoded data removed]",
      "text/plain": [
       "<Figure size 288x288 with 1 Axes>"
      ]
     },
     "metadata": {
      "needs_background": "light"
     },
     "output_type": "display_data"
    }
   ],
   "source": [
    "import matplotlib.pyplot as plt\n",
    "import numpy as np\n",
    "\n",
    "plt.matshow(A)\n",
    "\n",
    "plt.show()"
   ]
  },
  {
   "cell_type": "code",
   "execution_count": null,
   "metadata": {},
   "outputs": [],
   "source": []
  },
  {
   "cell_type": "code",
   "execution_count": null,
   "metadata": {},
   "outputs": [],
   "source": []
  }
 ],
 "metadata": {
  "kernelspec": {
   "display_name": "base",
   "language": "python",
   "name": "python3"
  },
  "language_info": {
   "codemirror_mode": {
    "name": "ipython",
    "version": 3
   },
   "file_extension": ".py",
   "mimetype": "text/x-python",
   "name": "python",
   "nbconvert_exporter": "python",
   "pygments_lexer": "ipython3",
   "version": "3.9.7"
  },
  "orig_nbformat": 4
 },
 "nbformat": 4,
 "nbformat_minor": 2
}
