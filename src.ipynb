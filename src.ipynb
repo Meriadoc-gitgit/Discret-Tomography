{
 "cells": [
  {
   "cell_type": "code",
   "execution_count": 1,
   "metadata": {},
   "outputs": [],
   "source": [
    "# Implémentation des librairies nécessaires\n",
    "import numpy as np\n",
    "\n",
    "# Implémentation de code source\n",
    "import src"
   ]
  },
  {
   "cell_type": "code",
   "execution_count": 2,
   "metadata": {},
   "outputs": [
    {
     "name": "stdout",
     "output_type": "stream",
     "text": [
      "Le coloriage est possible.\n"
     ]
    }
   ],
   "source": [
    "L = [0,1,1,1,1,0,0,1,1,0,1,1,1,0,0,0,0,1,1,1]\n",
    "print(\"Le coloriage est possible.\" \n",
    "if src.check_conformity([4, 2, 3, 3], 19, 4, L)  else \"Le coloriage n'est pas possible.\")"
   ]
  },
  {
   "cell_type": "code",
   "execution_count": 3,
   "metadata": {},
   "outputs": [
    {
     "data": {
      "text/plain": [
       "False"
      ]
     },
     "execution_count": 3,
     "metadata": {},
     "output_type": "execute_result"
    }
   ],
   "source": [
    "Matrice = [[-1]*8]*10\n",
    "A = src.CopierMatrice(Matrice)\n",
    "A[0][0] = 1\n",
    "src.is_finish(A)"
   ]
  },
  {
   "cell_type": "code",
   "execution_count": 15,
   "metadata": {},
   "outputs": [
    {
     "data": {
      "text/plain": [
       "[-1, -1, 0, 1, 1, 1]"
      ]
     },
     "execution_count": 15,
     "metadata": {},
     "output_type": "execute_result"
    }
   ],
   "source": [
    "L = [-1,-1,0,-1,-1,-1]\n",
    "bloc = [1,3]\n",
    "N = len(L)\n",
    "src.CalculPossibititesConstant(L,bloc,N)"
   ]
  },
  {
   "cell_type": "code",
   "execution_count": null,
   "metadata": {},
   "outputs": [],
   "source": [
    "list_line, list_col = [[3],[0],[1,1,1],[3]], [[1,1],[1],[1,2],[1],[2]]\n",
    "A = [[-1]*5]*4\n",
    "A"
   ]
  },
  {
   "cell_type": "code",
   "execution_count": null,
   "metadata": {},
   "outputs": [],
   "source": [
    "list_line, list_col = src.read_file(\"instances/1.txt\")\n",
    "A = [[-1]*(len(list_col))]*(len(list_line))\n",
    "print(len(list_line), len(list_col), list_line, list_col,\"\\n\")\n",
    "_, A = src.Coloration(list_line, list_col, A)\n",
    "_, A = src.Coloration(list_line, list_col, A)\n",
    "_, A = src.ColorationProgagee(A, 1,0,1,list_line, list_col)\n",
    "A"
   ]
  },
  {
   "cell_type": "code",
   "execution_count": null,
   "metadata": {},
   "outputs": [],
   "source": [
    "print(\"Start\", A)\n",
    "src.EnumRec(A, 10, 0, list_line, list_col)"
   ]
  },
  {
   "cell_type": "code",
   "execution_count": null,
   "metadata": {},
   "outputs": [],
   "source": [
    "def is_valid(puzzle, row_constraints, col_constraints, row, col):\n",
    "    # Check if the current placement of colors is valid\n",
    "    # Check row constraints\n",
    "    row_vals = []\n",
    "    row_val = 0\n",
    "    for c in range(len(puzzle[0])):\n",
    "        if puzzle[row][c] == 1:\n",
    "            row_val += 1\n",
    "        elif row_val != 0:\n",
    "            row_vals.append(row_val)\n",
    "            row_val = 0\n",
    "    if row_val != 0:\n",
    "        row_vals.append(row_val)\n",
    "    if row_vals != row_constraints[row]:\n",
    "        return False\n",
    "    \n",
    "    # Check column constraints\n",
    "    col_vals = []\n",
    "    col_val = 0\n",
    "    for r in range(len(puzzle)):\n",
    "        if puzzle[r][col] == 1:\n",
    "            col_val += 1\n",
    "        elif col_val != 0:\n",
    "            col_vals.append(col_val)\n",
    "            col_val = 0\n",
    "    if col_val != 0:\n",
    "        col_vals.append(col_val)\n",
    "    if col_vals != col_constraints[col]:\n",
    "        return False\n",
    "    \n",
    "    return True\n",
    "\n",
    "def solve_nonogram(puzzle, row_constraints, col_constraints, row=0, col=0):\n",
    "    if row == len(puzzle):\n",
    "        return True\n",
    "    \n",
    "    next_row = row + 1 if col == len(puzzle[0]) - 1 else row\n",
    "    next_col = col + 1 if col < len(puzzle[0]) - 1 else 0\n",
    "    \n",
    "    if puzzle[row][col] == 0:  # If the cell is not colored\n",
    "        for color in range(2):  # Try coloring with 0 or 1\n",
    "            puzzle[row][col] = color\n",
    "            if is_valid(puzzle, row_constraints, col_constraints, row, col):\n",
    "                if solve_nonogram(puzzle, row_constraints, col_constraints, next_row, next_col):\n",
    "                    return True\n",
    "            puzzle[row][col] = 0  # Backtrack\n",
    "    else:\n",
    "        if solve_nonogram(puzzle, row_constraints, col_constraints, next_row, next_col):\n",
    "            return True\n",
    "    \n",
    "    return False\n",
    "\n",
    "# Example usage\n",
    "row_constraints = [[3], [1, 1], [1, 1], [3], [1]]\n",
    "col_constraints = [[1], [1], [3], [1, 1], [3]]\n",
    "\n",
    "puzzle = [\n",
    "    [0, 1, 1, 1, 0],\n",
    "    [0, 0, 1, 0, 0],\n",
    "    [0, 0, 1, 0, 0],\n",
    "    [0, 1, 1, 1, 0],\n",
    "    [0, 0, 1, 0, 0]\n",
    "]\n",
    "\n",
    "if solve_nonogram(puzzle, row_constraints, col_constraints):\n",
    "    for row in puzzle:\n",
    "        print(row)\n",
    "else:\n",
    "    print(\"No solution exists.\")\n",
    "\n",
    "\n"
   ]
  },
  {
   "cell_type": "code",
   "execution_count": null,
   "metadata": {},
   "outputs": [],
   "source": [
    "src.possible_coloration([1,1],[0,-1,0,-1,0],5)"
   ]
  },
  {
   "cell_type": "code",
   "execution_count": null,
   "metadata": {},
   "outputs": [],
   "source": []
  }
 ],
 "metadata": {
  "kernelspec": {
   "display_name": "base",
   "language": "python",
   "name": "python3"
  },
  "language_info": {
   "codemirror_mode": {
    "name": "ipython",
    "version": 3
   },
   "file_extension": ".py",
   "mimetype": "text/x-python",
   "name": "python",
   "nbconvert_exporter": "python",
   "pygments_lexer": "ipython3",
   "version": "3.9.7"
  },
  "orig_nbformat": 4
 },
 "nbformat": 4,
 "nbformat_minor": 2
}
