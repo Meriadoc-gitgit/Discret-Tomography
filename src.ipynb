{
 "cells": [
  {
   "cell_type": "code",
   "execution_count": 1,
   "metadata": {},
   "outputs": [],
   "source": [
    "# Implémentation des librairies nécessaires\n",
    "import numpy as np\n",
    "\n",
    "# Implémentation de code source\n",
    "\n",
    "import src "
   ]
  },
  {
   "cell_type": "code",
   "execution_count": 2,
   "metadata": {},
   "outputs": [
    {
     "name": "stdout",
     "output_type": "stream",
     "text": [
      "Le coloriage est possible.\n"
     ]
    }
   ],
   "source": [
    "print(\"Le coloriage est possible.\" \n",
    "\n",
    "if src.T([4, 2, 3, 3], 19, 4, [0,1,1,1,1,0,0,1,1,0,1,1,1,0,0,0,1,1,1,0])  else \"Le coloriage n'est pas possible.\")"
   ]
  },
  {
   "cell_type": "code",
   "execution_count": 3,
   "metadata": {},
   "outputs": [
    {
     "data": {
      "text/plain": [
       "[[-1, -1, -1, -1, -1],\n",
       " [-1, -1, -1, -1, -1],\n",
       " [-1, -1, -1, -1, -1],\n",
       " [-1, -1, -1, -1, -1]]"
      ]
     },
     "execution_count": 3,
     "metadata": {},
     "output_type": "execute_result"
    }
   ],
   "source": [
    "list_line, list_col = [[3],[0],[1,1,1],[3]], [[1,1],[1],[1,2],[1],[2]]\n",
    "A = [[-1]*5]*4\n",
    "A"
   ]
  },
  {
   "cell_type": "code",
   "execution_count": 4,
   "metadata": {},
   "outputs": [
    {
     "name": "stdout",
     "output_type": "stream",
     "text": [
      "[[-1, -1, 1, -1, -1], [0, 0, 0, 0, 0], [1, 0, 1, 0, 1], [-1, -1, 1, -1, -1]]\n",
      "colored [1, 0, 1, 0]\n",
      "colored [-1, 0, 0, -1]\n",
      "colored [1, 0, 1, 1]\n",
      "colored [-1, 0, 0, -1]\n",
      "colored [0, 0, 1, 1]\n",
      "[[1, -1, 1, -1, 0], [0, 0, 0, 0, 0], [1, 0, 1, 0, 1], [0, -1, 1, -1, 1]]\n"
     ]
    },
    {
     "data": {
      "text/plain": [
       "[[1, 1, 1, 0, 0], [0, 0, 0, 0, 0], [1, 0, 1, 0, 1], [0, -1, 1, 1, 1]]"
      ]
     },
     "execution_count": 4,
     "metadata": {},
     "output_type": "execute_result"
    }
   ],
   "source": [
    "src.Propagation(list_line, list_col, A)"
   ]
  },
  {
   "cell_type": "code",
   "execution_count": 5,
   "metadata": {},
   "outputs": [
    {
     "name": "stdout",
     "output_type": "stream",
     "text": [
      "[[-1, -1, 1, -1, -1], [1, 0, 1, 0, 1], [-1, -1, 1, -1, -1], [-1, -1, -1, -1, -1], [-1, -1, -1, -1, -1]]\n",
      "colored [0, 1, 0, 1, 0]\n",
      "colored [1, 0, -1, 1, -1]\n",
      "colored [1, 1, 1, 0, 0]\n",
      "colored [1, 0, -1, 1, -1]\n",
      "colored [0, 1, 0, 1, 0]\n",
      "[[0, 1, 1, 1, 0], [1, 0, 1, 0, 1], [0, -1, 1, -1, 0], [1, 1, 0, 1, 1], [0, -1, 0, -1, 0]]\n"
     ]
    },
    {
     "data": {
      "text/plain": [
       "[[0, 1, 1, 1, 0],\n",
       " [1, 0, 1, 0, 1],\n",
       " [0, -1, 1, 1, 0],\n",
       " [1, 1, 0, 1, 1],\n",
       " [0, -1, 0, 1, 1]]"
      ]
     },
     "execution_count": 5,
     "metadata": {},
     "output_type": "execute_result"
    }
   ],
   "source": [
    "list_line, list_col = [[3],[1,1,1],[3],[1,1],[1,1]], [[1,1],[1,2],[3],[1,2],[1,1]]\n",
    "A = [[-1]*5]*5\n",
    "src.Propagation(list_line, list_col, A)"
   ]
  },
  {
   "cell_type": "code",
   "execution_count": null,
   "metadata": {},
   "outputs": [],
   "source": []
  },
  {
   "cell_type": "code",
   "execution_count": null,
   "metadata": {},
   "outputs": [],
   "source": []
  },
  {
   "cell_type": "code",
   "execution_count": null,
   "metadata": {},
   "outputs": [],
   "source": []
  }
 ],
 "metadata": {
  "kernelspec": {
   "display_name": "base",
   "language": "python",
   "name": "python3"
  },
  "language_info": {
   "codemirror_mode": {
    "name": "ipython",
    "version": 3
   },
   "file_extension": ".py",
   "mimetype": "text/x-python",
   "name": "python",
   "nbconvert_exporter": "python",
   "pygments_lexer": "ipython3",
   "version": "3.9.7"
  },
  "orig_nbformat": 4
 },
 "nbformat": 4,
 "nbformat_minor": 2
}
