{
 "cells": [
  {
   "cell_type": "code",
   "execution_count": 1,
   "metadata": {},
   "outputs": [],
   "source": [
    "# Implémentation des librairies nécessaires\n",
    "import numpy as np\n",
    "\n",
    "# Implémentation de code source\n",
    "import src "
   ]
  },
  {
   "cell_type": "code",
   "execution_count": 2,
   "metadata": {},
   "outputs": [
    {
     "name": "stdout",
     "output_type": "stream",
     "text": [
      "Le coloriage est possible.\n"
     ]
    }
   ],
   "source": [
    "print(\"Le coloriage est possible.\" \n",
    "\n",
    "if src.T2([4, 2, 3, 3], 19, 4, [0,1,1,1,1,0,0,1,1,0,1,1,1,0,0,0,1,1,1,0])  else \"Le coloriage n'est pas possible.\")"
   ]
  },
  {
   "cell_type": "code",
   "execution_count": 3,
   "metadata": {},
   "outputs": [
    {
     "data": {
      "text/plain": [
       "[[-1, -1, -1, -1, -1],\n",
       " [-1, -1, -1, -1, -1],\n",
       " [-1, -1, -1, -1, -1],\n",
       " [-1, -1, -1, -1, -1]]"
      ]
     },
     "execution_count": 3,
     "metadata": {},
     "output_type": "execute_result"
    }
   ],
   "source": [
    "list_line, list_col = [[3],[0],[1,1,1],[3]], [[1,1],[1],[1,2],[1],[2]]\n",
    "A = [[-1]*5]*4\n",
    "A"
   ]
  },
  {
   "cell_type": "markdown",
   "metadata": {},
   "source": []
  },
  {
   "cell_type": "code",
   "execution_count": 4,
   "metadata": {},
   "outputs": [
    {
     "data": {
      "text/plain": [
       "[[1, 1, 1, 0, 0], [0, 0, 0, 0, 0], [1, 0, 1, 0, 1], [0, 0, 1, 1, 1]]"
      ]
     },
     "execution_count": 4,
     "metadata": {},
     "output_type": "execute_result"
    }
   ],
   "source": [
    "src.Coloration(list_line, list_col, A)"
   ]
  },
  {
   "cell_type": "code",
   "execution_count": 5,
   "metadata": {},
   "outputs": [
    {
     "data": {
      "text/plain": [
       "[[0, 1, 1, 1, 0],\n",
       " [1, 0, 1, 0, 1],\n",
       " [0, 1, 1, 1, 0],\n",
       " [0, 1, 0, 1, 0],\n",
       " [1, 0, 0, 0, 1]]"
      ]
     },
     "execution_count": 5,
     "metadata": {},
     "output_type": "execute_result"
    }
   ],
   "source": [
    "list_line, list_col = [[3],[1,1,1],[3],[1,1],[1,1]], [[1,1],[1,2],[3],[1,2],[1,1]]\n",
    "A = [[-1]*5]*5\n",
    "src.Coloration(list_line, list_col, A)"
   ]
  },
  {
   "cell_type": "code",
   "execution_count": 6,
   "metadata": {},
   "outputs": [
    {
     "data": {
      "text/plain": [
       "True"
      ]
     },
     "execution_count": 6,
     "metadata": {},
     "output_type": "execute_result"
    }
   ],
   "source": [
    "src.T2([3],4,1,[0,-1,1,1,0])"
   ]
  },
  {
   "cell_type": "code",
   "execution_count": 7,
   "metadata": {},
   "outputs": [],
   "source": [
    "list_line = [[15],\n",
    "[19],\n",
    "[22],\n",
    "[20,2],\n",
    "[19,3],\n",
    "[17,9],\n",
    "[17, 4, 8],\n",
    "[16, 4, 8],\n",
    "[14, 4, 4, 4],\n",
    "[13, 3, 2],\n",
    "[12, 2, 2],\n",
    "[11, 3, 4, 1],\n",
    "[10, 3, 4, 2],\n",
    "[9, 2, 6, 1],\n",
    "[10, 2, 5, 1],\n",
    "[9, 2, 4, 1],\n",
    "[8, 2, 1, 1, 1, 1],\n",
    "[9, 2, 1, 1, 2, 2, 2],\n",
    "[13, 8, 2, 5, 2],\n",
    "[8, 2, 6, 1, 3, 9, 2],\n",
    "[7, 1, 6, 2, 15, 2],\n",
    "[6, 1, 6, 2, 2, 8, 2],\n",
    "[6, 2, 6, 3, 3, 9],\n",
    "[5, 1, 5, 4, 7, 6],\n",
    "[4, 2, 2, 1, 6, 3, 4],\n",
    "[3, 2, 2, 3, 1, 2, 3, 5],\n",
    "[2, 3, 3, 3, 8],\n",
    "[1, 7, 2, 2, 7, 4],\n",
    "[3, 13, 7, 2, 1, 3],\n",
    "[5, 17, 1, 1, 3, 3],\n",
    "[4, 16, 8, 1, 1, 2],\n",
    "[2, 7, 3, 3, 5, 2, 2],\n",
    "[6, 3, 10, 2, 4],\n",
    "[5, 4, 10, 2, 4],\n",
    "[4, 5, 3, 5, 17],\n",
    "[3, 4, 4, 5, 8, 9],\n",
    "[7, 5, 5, 3, 2, 2, 3],\n",
    "[5, 6, 4, 2, 5, 2, 7],\n",
    "[4, 7, 4, 2, 2, 4, 1, 2],\n",
    "[10, 3, 2, 2, 1],\n",
    "[9, 3, 2, 6, 4, 1],\n",
    "[6, 3, 2, 2, 2, 2, 3],\n",
    "[3, 3, 2, 1, 1, 1, 2],\n",
    "[1, 2, 2, 2, 1],\n",
    "[2, 11, 2, 1],\n",
    "[6, 2, 1],\n",
    "[9, 2, 2],\n",
    "[5, 3, 2, 2],\n",
    "[4, 3, 6, 3],\n",
    "[37, 8]]"
   ]
  },
  {
   "cell_type": "code",
   "execution_count": 8,
   "metadata": {},
   "outputs": [],
   "source": [
    "list_col = [[11, 2, 3, 1],\n",
    "[17, 4, 6, 2],\n",
    "[34, 2],\n",
    "[22, 3, 3, 5, 3],\n",
    "[21, 1, 3, 5, 3],\n",
    "[21, 3, 3, 3, 1, 1],\n",
    "[20, 3, 3, 4, 2, 1],\n",
    "[19, 3, 2, 6, 2, 1],\n",
    "[16, 2, 2, 3, 7, 1, 1],\n",
    "[15, 1, 3, 2, 7, 2, 1],\n",
    "[13, 2, 3, 2, 6, 2, 1],\n",
    "[12, 6, 2, 2, 6, 2, 1],\n",
    "[11, 4, 3, 3, 1, 4, 5],\n",
    "[10, 3, 2, 5, 3, 9],\n",
    "[10, 2, 5, 2, 4, 3, 12],\n",
    "[9, 2, 8, 6, 2, 7, 1],\n",
    "[8, 2, 1, 6, 5, 2, 6, 1],\n",
    "[8, 2, 10, 4, 2, 4, 1],\n",
    "[7, 2, 1, 7, 11, 1, 1],\n",
    "[6, 2, 9, 11, 1, 1],\n",
    "[5, 2, 2, 11, 1, 1],\n",
    "[5, 2, 13, 3, 1, 1],\n",
    "[4, 2, 4, 2, 3, 1, 1],\n",
    "[3, 3, 1, 3, 4, 3, 1, 1],\n",
    "[2, 2, 2, 7, 2, 1, 1],\n",
    "[1, 3, 1, 2, 3, 4, 1, 1],\n",
    "[2, 2, 1, 1, 2, 1, 2, 5, 1, 1],\n",
    "[3, 1, 2, 1, 2, 2, 9, 1],\n",
    "[2, 1, 1, 2, 1, 1, 3, 2, 1],\n",
    "[2, 1, 2, 1, 1, 1, 2, 1],\n",
    "[1, 1, 2, 1, 1, 2, 1],\n",
    "[1, 1, 4, 1, 1, 1, 2, 1, 1],\n",
    "[2, 1, 2, 1, 1, 3, 2, 2, 2, 1],\n",
    "[2, 1, 2, 1, 2, 2, 1, 2, 1],\n",
    "[1, 1, 2, 2, 1, 2, 1, 1, 1],\n",
    "[1, 4, 1, 3, 4, 1, 2],\n",
    "[1, 4, 2, 2, 1, 3, 1, 3],\n",
    "[2, 5, 3, 1, 1, 4, 4],\n",
    "[2, 5, 3, 1, 1, 2, 10, 1],\n",
    "[2, 2, 6, 4, 8, 2, 1],\n",
    "[1, 2, 8, 3, 4, 2],\n",
    "[1, 3, 8, 2, 1],\n",
    "[1, 3, 7, 2, 2, 1],\n",
    "[2, 3, 8, 2, 1, 2, 1],\n",
    "[2, 2, 2, 6, 4, 1, 2, 1],\n",
    "[1, 2, 11, 1, 1],\n",
    "[2, 2, 7, 1, 2],\n",
    "[2, 2, 2, 2, 2, 2],\n",
    "[3, 3, 2, 2, 3],\n",
    "[7, 10]]"
   ]
  },
  {
   "cell_type": "code",
   "execution_count": 12,
   "metadata": {},
   "outputs": [
    {
     "data": {
      "text/plain": [
       "50"
      ]
     },
     "execution_count": 12,
     "metadata": {},
     "output_type": "execute_result"
    }
   ],
   "source": [
    "len(list_col)"
   ]
  },
  {
   "cell_type": "code",
   "execution_count": 14,
   "metadata": {},
   "outputs": [],
   "source": [
    "A = [[-1]*50]*50"
   ]
  },
  {
   "cell_type": "code",
   "execution_count": 15,
   "metadata": {},
   "outputs": [],
   "source": [
    "src.Coloration(list_line, list_col, A)"
   ]
  },
  {
   "cell_type": "code",
   "execution_count": null,
   "metadata": {},
   "outputs": [],
   "source": []
  }
 ],
 "metadata": {
  "kernelspec": {
   "display_name": "base",
   "language": "python",
   "name": "python3"
  },
  "language_info": {
   "codemirror_mode": {
    "name": "ipython",
    "version": 3
   },
   "file_extension": ".py",
   "mimetype": "text/x-python",
   "name": "python",
   "nbconvert_exporter": "python",
   "pygments_lexer": "ipython3",
   "version": "3.9.7"
  },
  "orig_nbformat": 4
 },
 "nbformat": 4,
 "nbformat_minor": 2
}
