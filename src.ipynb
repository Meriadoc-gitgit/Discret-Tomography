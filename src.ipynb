{
 "cells": [
  {
   "cell_type": "code",
   "execution_count": null,
   "metadata": {},
   "outputs": [],
   "source": [
    "# Implémentation des librairies nécessaires\n",
    "import numpy as np\n",
    "import matplotlib.pyplot as plt\n",
    "\n",
    "# Implémentation de code source\n",
    "import src\n",
    "import game"
   ]
  },
  {
   "cell_type": "code",
   "execution_count": null,
   "metadata": {},
   "outputs": [],
   "source": [
    "#L = [0,1,1,1,1,0,0,1,1,0,1,1,-1,0,0,0,0,1,1,1]\n",
    "L = [-1]*19+[1]\n",
    "bloc = [4, 2, 3, 3]\n",
    "j = 19\n",
    "l = 4\n",
    "print(\"Le coloriage est possible.\" \n",
    "if src.coloring_chain(L, bloc, j, l)  else \"Le coloriage n'est pas possible.\")\n",
    "L"
   ]
  },
  {
   "cell_type": "code",
   "execution_count": null,
   "metadata": {},
   "outputs": [],
   "source": [
    "list_line, list_col = src.read_file(\"instances/9.txt\")\n",
    "A = [[-1]*(len(list_col))]*(len(list_line))\n",
    "print(len(list_line), len(list_col), list_line, list_col,\"\\n\")\n",
    "#ok, A = src.COLORATION(A, list_line, list_col)\n",
    "#src.show(A)\n",
    "src.EmptyCounter(A)\n",
    "#_, A = src.Enum_Rec(A, 125, 0, list_line, list_col)\n",
    "#_, A = src.Enumeration(A, list_line, list_col)\n",
    "src.show(A, list_line, list_col)"
   ]
  },
  {
   "cell_type": "code",
   "execution_count": null,
   "metadata": {},
   "outputs": [],
   "source": [
    "sequence = game.photo_to_nonogram_sequences(\"catbw.png\")\n",
    "list_line, list_col = sequence[\"rows\"], sequence[\"columns\"]\n",
    "A = [[-1]*(len(list_col))]*(len(list_line))\n",
    "print(len(list_line), len(list_col), list_line, list_col,\"\\n\")\n",
    "#ok, A = src.COLORATION(A, list_line, list_col)\n",
    "#src.show(A)\n",
    "src.EmptyCounter(A)\n",
    "#_, A = src.Enum_Rec(A, 125, 0, list_line, list_col)\n",
    "#_, A = src.Enumeration(A, list_line, list_col)\n",
    "src.show(A, list_line, list_col)"
   ]
  },
  {
   "cell_type": "code",
   "execution_count": null,
   "metadata": {},
   "outputs": [],
   "source": []
  },
  {
   "cell_type": "code",
   "execution_count": null,
   "metadata": {},
   "outputs": [],
   "source": []
  }
 ],
 "metadata": {
  "kernelspec": {
   "display_name": "base",
   "language": "python",
   "name": "python3"
  },
  "language_info": {
   "codemirror_mode": {
    "name": "ipython",
    "version": 3
   },
   "file_extension": ".py",
   "mimetype": "text/x-python",
   "name": "python",
   "nbconvert_exporter": "python",
   "pygments_lexer": "ipython3",
   "version": "3.9.7"
  },
  "orig_nbformat": 4
 },
 "nbformat": 4,
 "nbformat_minor": 2
}
